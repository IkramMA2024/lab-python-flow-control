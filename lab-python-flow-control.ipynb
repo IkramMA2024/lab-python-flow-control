{
 "cells": [
  {
   "cell_type": "markdown",
   "id": "d3bfc191-8885-42ee-b0a0-bbab867c6f9f",
   "metadata": {
    "tags": []
   },
   "source": [
    "# Lab | Flow Control"
   ]
  },
  {
   "cell_type": "markdown",
   "id": "3851fcd1-cf98-4653-9c89-e003b7ec9400",
   "metadata": {},
   "source": [
    "## Exercise: Managing Customer Orders Optimized\n",
    "\n",
    "In the last lab, you were starting an online store that sells various products. To ensure smooth operations, you developed a program that manages customer orders and inventory.\n",
    "\n",
    "You did so without using flow control. Let's go a step further and improve this code.\n",
    "\n",
    "Follow the steps below to complete the exercise:\n",
    "\n",
    "1. Look at your code from the lab data structures, and improve repeated code with loops.\n",
    "\n",
    "2. Instead of asking the user to input the name of three products that a customer wants to order, do the following:\n",
    "    \n",
    "    a. Prompt the user to enter the name of a product that a customer wants to order.\n",
    "    \n",
    "    b. Add the product name to the \"customer_orders\" set.\n",
    "    \n",
    "    c. Ask the user if they want to add another product (yes/no).\n",
    "    \n",
    "    d. Continue the loop until the user does not want to add another product.\n",
    "\n",
    "3. Instead of updating the inventory by subtracting 1 from the quantity of each product, only do it for  the products that were ordered (those in \"customer_orders\")."
   ]
  },
  {
   "cell_type": "code",
   "execution_count": null,
   "id": "6d6d9ec0-7aac-4a15-a068-2460635af522",
   "metadata": {},
   "outputs": [],
   "source": [
    "#Dans le dernier atelier, vous démarriez une boutique en ligne vendant divers produits. \n",
    "#Pour assurer le bon fonctionnement des opérations, vous avez développé un programme qui gère les commandes et les stocks des clients.\n",
    "#Vous l'avez fait sans utiliser le contrôle de flux. Allons plus loin et améliorons ce code.\n",
    "#Suivez les étapes ci-dessous pour terminer l'exercice :\n",
    "#Examinez votre code à partir des structures de données du laboratoire et améliorez le code répété avec des boucles.\n",
    "#Au lieu de demander à l'utilisateur de saisir le nom de trois produits qu'un client souhaite commander, procédez comme suit :\n",
    "#un. Inviter l'utilisateur à saisir le nom d'un produit qu'un client souhaite commander.\n",
    "#b. Ajoutez le nom du produit à l'ensemble \"customer_orders\".\n",
    "#c. Demandez à l'utilisateur s'il souhaite ajouter un autre produit (oui/non).\n",
    "#d. Continuez la boucle jusqu'à ce que l'utilisateur ne souhaite plus ajouter un autre produit.\n",
    "#Au lieu de mettre à jour l'inventaire en soustrayant 1 à la quantité de chaque produit, faites-le uniquement pour les produits qui ont été commandés (ceux dans \"customer_orders\")."
   ]
  },
  {
   "cell_type": "code",
   "execution_count": null,
   "id": "f308d177-e2b8-4328-9709-a1aa780404dc",
   "metadata": {},
   "outputs": [],
   "source": [
    "#1. J'ai un atelier dans lequel il y a divers produits\n",
    "#2. J'ai besoin d'un programme qui gère les commandes et les stocks:\n",
    "#- càd une liste avec le stock, une liste avec les commandes, et le delta entre les deux\n",
    "#3. J'ai un client qui souhaite commander differents produits et je dois lui demander après chaque produit s'il veut continuer à en commander\n"
   ]
  },
  {
   "cell_type": "code",
   "execution_count": null,
   "id": "fb22bb79-a160-4184-978c-a29540d4ead5",
   "metadata": {},
   "outputs": [],
   "source": [
    "# 1. Définir la liste des produits et des stocks\n",
    "#Deux méthodes: \n",
    "#- soit j'utilise les listes (mais je ne peux alors jamais modifier les valeurs sinon le lien ne se fait plus)\n",
    "products = ['basket', 'jouets','lampe','livre','pull']\n",
    "stocks= [10, 20,18,30,5]\n",
    "\n",
    "#-soit j'utilise une bibliothèque qui me permet de lier le produit avec son stock \n",
    "produits_stocks = {'basket':10, 'jouets': 20, 'lampe': 18, 'livre':30, 'pull': 5}\n",
    "\n",
    "#2. Définir un programme qui me permet de lier les stocks avec les commandes\n",
    "\n"
   ]
  }
 ],
 "metadata": {
  "kernelspec": {
   "display_name": "Python 3 (ipykernel)",
   "language": "python",
   "name": "python3"
  },
  "language_info": {
   "codemirror_mode": {
    "name": "ipython",
    "version": 3
   },
   "file_extension": ".py",
   "mimetype": "text/x-python",
   "name": "python",
   "nbconvert_exporter": "python",
   "pygments_lexer": "ipython3",
   "version": "3.11.7"
  }
 },
 "nbformat": 4,
 "nbformat_minor": 5
}
