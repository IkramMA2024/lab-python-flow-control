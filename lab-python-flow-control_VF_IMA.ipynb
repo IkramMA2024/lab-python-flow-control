{
 "cells": [
  {
   "cell_type": "markdown",
   "id": "d3bfc191-8885-42ee-b0a0-bbab867c6f9f",
   "metadata": {
    "tags": []
   },
   "source": [
    "# Lab | Flow Control"
   ]
  },
  {
   "cell_type": "markdown",
   "id": "3851fcd1-cf98-4653-9c89-e003b7ec9400",
   "metadata": {},
   "source": [
    "## Exercise: Managing Customer Orders Optimized\n",
    "\n",
    "In the last lab, you were starting an online store that sells various products. To ensure smooth operations, you developed a program that manages customer orders and inventory.\n",
    "\n",
    "You did so without using flow control. Let's go a step further and improve this code.\n",
    "\n",
    "Follow the steps below to complete the exercise:\n",
    "\n",
    "1. Look at your code from the lab data structures, and improve repeated code with loops.\n",
    "\n",
    "2. Instead of asking the user to input the name of three products that a customer wants to order, do the following:\n",
    "    \n",
    "    a. Prompt the user to enter the name of a product that a customer wants to order.\n",
    "    \n",
    "    b. Add the product name to the \"customer_orders\" set.\n",
    "    \n",
    "    c. Ask the user if they want to add another product (yes/no).\n",
    "    \n",
    "    d. Continue the loop until the user does not want to add another product.\n",
    "\n",
    "3. Instead of updating the inventory by subtracting 1 from the quantity of each product, only do it for  the products that were ordered (those in \"customer_orders\")."
   ]
  },
  {
   "cell_type": "code",
   "execution_count": 8,
   "id": "67baebb6-42f4-40fb-8a5e-dce81a449757",
   "metadata": {},
   "outputs": [
    {
     "name": "stdin",
     "output_type": "stream",
     "text": [
      "Entrez la quantité disponible pour 't-shirt':  100\n",
      "Entrez la quantité disponible pour 'mug':  100\n",
      "Entrez la quantité disponible pour 'hat':  100\n",
      "Entrez la quantité disponible pour 'book':  100\n",
      "Entrez la quantité disponible pour 'keychain':  100\n",
      "Nom du produit que vous souhaitez commander :  hat\n",
      "Quantité de 'hat' que vous souhaitez commander :  10\n",
      "Voulez-vous commander un autre produit ? (oui/non)  oui\n",
      "Nom du produit que vous souhaitez commander :  book\n",
      "Quantité de 'book' que vous souhaitez commander :  10\n",
      "Voulez-vous commander un autre produit ? (oui/non)  oui\n",
      "Nom du produit que vous souhaitez commander :  hat\n",
      "Quantité de 'hat' que vous souhaitez commander :  10\n",
      "Voulez-vous commander un autre produit ? (oui/non)  non\n"
     ]
    },
    {
     "name": "stdout",
     "output_type": "stream",
     "text": [
      "Inventaire mis à jour :\n",
      "t-shirt: 100\n",
      "mug: 100\n",
      "hat: 90\n",
      "book: 90\n",
      "keychain: 100\n"
     ]
    }
   ],
   "source": [
    "# Définir les produits disponibles\n",
    "products = [\"t-shirt\", \"mug\", \"hat\", \"book\", \"keychain\"]\n",
    "\n",
    "# Initialiser l'inventaire avec des quantités pour chaque produit\n",
    "inventory = {}\n",
    "for product in products:\n",
    "    quantity = input(f\"Entrez la quantité disponible pour '{product}': \")\n",
    "    try:\n",
    "        quantity = int(quantity)\n",
    "    except ValueError:\n",
    "        print(\"Veuillez entrer un nombre entier.\")\n",
    "        continue\n",
    "    inventory[product] = quantity\n",
    "\n",
    "# Fonction pour saisir les commandes des clients\n",
    "def saisir_commandes():\n",
    "    customer_orders = set()  # Initialiser l'ensemble des commandes clients\n",
    "    \n",
    "    # Boucle pour saisir les commandes de l'utilisateur\n",
    "    while True:\n",
    "        product = input(\"Nom du produit que vous souhaitez commander : \")\n",
    "        \n",
    "        if product in products:\n",
    "            while True:\n",
    "                quantity = input(f\"Quantité de '{product}' que vous souhaitez commander : \")\n",
    "                try:\n",
    "                    quantity = int(quantity)\n",
    "                    if quantity < 0:\n",
    "                        print(\"La quantité doit être un nombre positif.\")\n",
    "                    else:\n",
    "                        customer_orders.add((product, quantity))  # Ajouter la commande à l'ensemble des commandes\n",
    "                        break\n",
    "                except ValueError:\n",
    "                    print(\"Veuillez entrer un nombre entier pour la quantité.\")\n",
    "        else:\n",
    "            print(\"Le produit saisi n'est pas disponible.\")\n",
    "        \n",
    "        # Demander à l'utilisateur s'il veut encore commander\n",
    "        another_order = input(\"Voulez-vous commander un autre produit ? (oui/non) \")\n",
    "        if another_order.lower() != 'oui':\n",
    "            break  # Sortir de la boucle si l'utilisateur ne souhaite plus commander\n",
    "    \n",
    "    return customer_orders\n",
    "\n",
    "# Appel de la fonction pour saisir les commandes\n",
    "customer_orders = saisir_commandes()\n",
    "\n",
    "# Mettre à jour l'inventaire en soustrayant les quantités des produits commandés\n",
    "for product, quantity in customer_orders:\n",
    "    if product in inventory:\n",
    "        inventory[product] -= quantity  # Décrémenter la quantité du produit dans l'inventaire\n",
    "\n",
    "# Afficher l'inventaire mis à jour\n",
    "print(\"Inventaire mis à jour :\")\n",
    "for product, quantity in inventory.items():\n",
    "    print(f\"{product}: {quantity}\")\n"
   ]
  },
  {
   "cell_type": "code",
   "execution_count": null,
   "id": "6c7e3edd-9656-41cb-8555-6b03eaeb1d0c",
   "metadata": {},
   "outputs": [],
   "source": []
  },
  {
   "cell_type": "code",
   "execution_count": null,
   "id": "8a2e2b41-0f16-4123-a97e-e11b26c2e8b4",
   "metadata": {},
   "outputs": [],
   "source": []
  },
  {
   "cell_type": "code",
   "execution_count": null,
   "id": "2da0016e-76c5-4869-b5cc-34df87dc60e6",
   "metadata": {},
   "outputs": [],
   "source": []
  }
 ],
 "metadata": {
  "kernelspec": {
   "display_name": "Python 3 (ipykernel)",
   "language": "python",
   "name": "python3"
  },
  "language_info": {
   "codemirror_mode": {
    "name": "ipython",
    "version": 3
   },
   "file_extension": ".py",
   "mimetype": "text/x-python",
   "name": "python",
   "nbconvert_exporter": "python",
   "pygments_lexer": "ipython3",
   "version": "3.11.7"
  }
 },
 "nbformat": 4,
 "nbformat_minor": 5
}
